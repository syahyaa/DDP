{
  "nbformat": 4,
  "nbformat_minor": 0,
  "metadata": {
    "colab": {
      "provenance": [],
      "toc_visible": true,
      "authorship_tag": "ABX9TyMbtHkmjplsIomVZJXEy9za",
      "include_colab_link": true
    },
    "kernelspec": {
      "name": "python3",
      "display_name": "Python 3"
    },
    "language_info": {
      "name": "python"
    }
  },
  "cells": [
    {
      "cell_type": "markdown",
      "metadata": {
        "id": "view-in-github",
        "colab_type": "text"
      },
      "source": [
        "<a href=\"https://colab.research.google.com/github/syahyaa/DDP/blob/main/Praktikum_4.ipynb\" target=\"_parent\"><img src=\"https://colab.research.google.com/assets/colab-badge.svg\" alt=\"Open In Colab\"/></a>"
      ]
    },
    {
      "cell_type": "code",
      "execution_count": null,
      "metadata": {
        "colab": {
          "base_uri": "https://localhost:8080/"
        },
        "id": "Ym-HsVZ605BJ",
        "outputId": "be470321-b65d-4d54-8d03-eebab46ef14b"
      },
      "outputs": [
        {
          "output_type": "stream",
          "name": "stdout",
          "text": [
            "==== Mencetak bilangan Genap dan Ganjil ====\n",
            "masukan bilangan:9\n",
            "Bilangan Ganjil\n"
          ]
        }
      ],
      "source": [
        "# Soal 1: Bilangan Genap atau Ganjil\n",
        "# Buatlah program yang meminta pengguna untuk memasukkan sebuah bilangan bulat.\n",
        "# Program harus menentukan apakah bilangan tersebut genap atau ganjil menggunakan if dan if else.\n",
        "\n",
        "print('==== Mencetak bilangan Genap dan Ganjil ====')\n",
        "bilangan = int(input('masukan bilangan:'))\n",
        "\n",
        "if bilangan % 2 == 0:\n",
        "  print('Bilangan Genap')\n",
        "else :\n",
        "  print('Bilangan Ganjil')"
      ]
    },
    {
      "cell_type": "code",
      "source": [
        "# Soal 2: Nilai Ujian\n",
        "# Buatlah program yang meminta pengguna untuk memasukkan nilai ujian.\n",
        "# Jika nilai lebih besar atau sama dengan 75, cetak \"Lulus\".\n",
        "# Jika tidak, cetak \"Tidak Lulus\". Gunakan if dan if else.\n",
        "\n",
        "print('==== Menccetak nilai ====')\n",
        "nilai = int(input('masukan nilai: '))\n",
        "\n",
        "if nilai >= 75 :\n",
        "  print('Lulus')\n",
        "else :\n",
        "  print('Tidak Lulus')"
      ],
      "metadata": {
        "colab": {
          "base_uri": "https://localhost:8080/"
        },
        "id": "DEVE_MSF5SVH",
        "outputId": "7c43f6be-7ff4-4273-9a89-0d831e816d1f"
      },
      "execution_count": null,
      "outputs": [
        {
          "output_type": "stream",
          "name": "stdout",
          "text": [
            "==== Menccetak nilai ====\n",
            "masukan nilai: 75\n",
            "Lulus\n"
          ]
        }
      ]
    },
    {
      "cell_type": "code",
      "source": [
        "# Soal 3: Cek Usia dan Status\n",
        "# Buatlah program yang meminta pengguna untuk memasukkan usia.\n",
        "# Program harus mencetak \"Dewasa\" jika usia lebih besar atau sama dengan 18,\n",
        "# dan \"Anak-anak\" jika kurang dari 18. Tambahkan kondisi untuk mencetak \"Remaja\"\n",
        "# jika usia antara 13 dan 17 menggunakan if and.\n",
        "\n",
        "print('==== Mencetak Usia ====')\n",
        "usia = int(input('masukan usia anda: '))\n",
        "if usia >= 18:\n",
        "  print('Dewasa')\n",
        "elif usia >= 13 and usia <= 17:\n",
        "  print('Remaja')\n",
        "else:\n",
        "  print('Anak-anak')"
      ],
      "metadata": {
        "colab": {
          "base_uri": "https://localhost:8080/"
        },
        "id": "tT_fF3M27hMs",
        "outputId": "5bd9681e-d631-47c4-b968-5977b24fa22a"
      },
      "execution_count": null,
      "outputs": [
        {
          "output_type": "stream",
          "name": "stdout",
          "text": [
            "==== Mencetak Usia ====\n",
            "masukan usia anda: 90\n",
            "Dewasa\n"
          ]
        }
      ]
    },
    {
      "cell_type": "code",
      "source": [
        "Buat program yang meminta pengguna memasukkan\n",
        "suhu air dalam derajat Celsius.\n",
        "Jika suhu ≥ 100, tampilkan \"Air mendidih\".\n",
        "Jika suhu ≤ 0, tampilkan \"Air membeku\".\n",
        "Jika tidak, tampilkan \"Air dalam keadaan cair atau hangat\"."
      ],
      "metadata": {
        "id": "Bvj3Bsmc9_Rb"
      },
      "execution_count": null,
      "outputs": []
    },
    {
      "cell_type": "code",
      "source": [
        "status_keanggotaan = input(\"masukan status keanggotaa (gold/silver/bronze)\")\n",
        "if status_keanggotaan == \"gold\" or status_keanggotaan == \"silver\":\n",
        "  print(\"SELAMAT!! ANDA MENDAPATKAN DISKON\")\n",
        "else :\n",
        "  print(\"kasian ga dapet diskon\")"
      ],
      "metadata": {
        "colab": {
          "base_uri": "https://localhost:8080/"
        },
        "id": "ENkj8CpIF6NZ",
        "outputId": "6985990c-3653-4caf-a34a-446216a55b01"
      },
      "execution_count": null,
      "outputs": [
        {
          "output_type": "stream",
          "name": "stdout",
          "text": [
            "masukan status keanggotaa (gold/silver/bronze)bronze\n",
            "kasian ga dapet diskon\n"
          ]
        }
      ]
    },
    {
      "cell_type": "code",
      "source": [
        "#no 5.\n",
        "Jumlah = int(input(\"Masukan Jumlah pembelanjaan anda \"))\n",
        "if Jumlah >100:\n",
        "  print(\"Anda Mendapat Diskon\")\n",
        "  print(\"Total Belanja anda\", Jumlah-(Jumlah*10/100))\n",
        "else:\n",
        "  print(\"Anda tak mendapatkan diskon. Join member GC\")"
      ],
      "metadata": {
        "colab": {
          "base_uri": "https://localhost:8080/"
        },
        "id": "SZSDB57FHVlY",
        "outputId": "adc02f0c-dde6-428a-c2d8-ab988a956cc6"
      },
      "execution_count": null,
      "outputs": [
        {
          "output_type": "stream",
          "name": "stdout",
          "text": [
            "Masukan Jumlah pembelanjaan anda 100\n",
            "Anda tak mendapatkan diskon. Join member GC\n"
          ]
        }
      ]
    },
    {
      "cell_type": "code",
      "source": [
        "jumlah_beli = int(input(\"masukkan jumlah pembelian \"))\n",
        "\n",
        "print(\"selamat anda dapat diskon 10%\") if jumlah_beli > 100 else print (\"maaf anda tidak dapat diskon\")"
      ],
      "metadata": {
        "colab": {
          "base_uri": "https://localhost:8080/"
        },
        "id": "NazDkyJyIuDy",
        "outputId": "be76f9ea-c5d3-45e4-bbba-bc2b704e77b4"
      },
      "execution_count": null,
      "outputs": [
        {
          "output_type": "stream",
          "name": "stdout",
          "text": [
            "masukkan jumlah pembelian 108\n",
            "selamat anda dapat diskon 10%\n"
          ]
        }
      ]
    },
    {
      "cell_type": "code",
      "source": [
        "jumlah_pembelian = int(input(\"Masukkan jumlah pembelian: \"))\n",
        "diskon = 0.1  # Diskon 10%\n",
        "\n",
        "if jumlah_pembelian > 100:\n",
        "  total_harga = jumlah_pembelian * (1 - diskon)\n",
        "else:\n",
        "  total_harga = jumlah_pembelian\n",
        "\n",
        "print(\"Total harga: Rp\", total_harga)"
      ],
      "metadata": {
        "colab": {
          "base_uri": "https://localhost:8080/"
        },
        "id": "6CHsgfxQKIGc",
        "outputId": "8d1ae29a-a987-4dc8-ae28-d2b6220c33b9"
      },
      "execution_count": null,
      "outputs": [
        {
          "output_type": "stream",
          "name": "stdout",
          "text": [
            "Masukkan jumlah pembelian: 190\n",
            "Total harga: Rp 171.0\n"
          ]
        }
      ]
    }
  ]
}