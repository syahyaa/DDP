{
  "nbformat": 4,
  "nbformat_minor": 0,
  "metadata": {
    "colab": {
      "provenance": [],
      "authorship_tag": "ABX9TyP4XmHZbTffWm+Rwr7of/cE",
      "include_colab_link": true
    },
    "kernelspec": {
      "name": "python3",
      "display_name": "Python 3"
    },
    "language_info": {
      "name": "python"
    }
  },
  "cells": [
    {
      "cell_type": "markdown",
      "metadata": {
        "id": "view-in-github",
        "colab_type": "text"
      },
      "source": [
        "<a href=\"https://colab.research.google.com/github/syahyaa/DDP/blob/main/Praktikum6.ipynb\" target=\"_parent\"><img src=\"https://colab.research.google.com/assets/colab-badge.svg\" alt=\"Open In Colab\"/></a>"
      ]
    },
    {
      "cell_type": "code",
      "source": [],
      "metadata": {
        "id": "sroTQ9FQ9A_C"
      },
      "execution_count": null,
      "outputs": []
    },
    {
      "cell_type": "code",
      "execution_count": 16,
      "metadata": {
        "colab": {
          "base_uri": "https://localhost:8080/"
        },
        "id": "x53xij642R19",
        "outputId": "46700c4f-4732-44f9-a8bb-dd0c6aa53e5b"
      },
      "outputs": [
        {
          "output_type": "stream",
          "name": "stdout",
          "text": [
            "951\n",
            "651\n",
            "69\n",
            "319\n",
            "601\n",
            "485\n",
            "507\n",
            "725\n",
            "547\n",
            "615\n",
            "83\n",
            "165\n",
            "141\n",
            "501\n",
            "263\n",
            "617\n",
            "865\n",
            "575\n",
            "219\n",
            "105\n",
            "941\n",
            "47\n",
            "907\n",
            "375\n",
            "823\n",
            "597\n",
            "615\n",
            "953\n",
            "345\n",
            "399\n",
            "219\n",
            "237\n",
            "949\n",
            "687\n",
            "217\n",
            "815\n",
            "67\n",
            "767\n"
          ]
        }
      ],
      "source": [
        "# Print semua bilangan ganjil dari list berikut,\n",
        "# hentikan perulangan ketika sudah melewati bilangan 553.\n",
        "# Pakai perulangan while.\n",
        "\n",
        "# [] = data list\n",
        "# {} = itu data dictionary\n",
        "# 1,2, abc = Data Normal\n",
        "\n",
        "numbers = [ 951, 402, 984, 651, 360, 69, 408, 319, 601, 485, 980, 507, 725, 547, 544,\n",
        " 615, 83, 165, 141, 501, 263, 617, 865, 575, 219, 390, 984, 592, 236, 105,\n",
        " 942, 941,  386, 462, 47, 418, 907, 344, 236, 375, 823, 566, 597, 978, 328,\n",
        " 615, 953, 345,  399, 162, 758, 219, 918, 237, 412, 566, 826, 248, 866, 950,\n",
        " 626, 949, 687, 217, 815, 67, 104, 58, 512, 24, 892, 894, 767, 553, 81, 379,\n",
        " 843, 831, 445, 742, 717, 958, 609, 842, 451, 688, 753, 854, 685, 93, 857, 440,\n",
        " 380, 126, 721, 328, 753, 470, 743, 527 ]\n",
        "\n",
        "index = 0 #untuk menampung nilai index\n",
        "while index <= len(numbers):\n",
        "  if numbers[index] == 553: #kondisi untuk mencari indek 553\n",
        "    break\n",
        "  if numbers[index] %2 == 1: #kondisi untuk mencetak nilai ganjil\n",
        "    print(numbers[index])\n",
        "  index += 1\n",
        "\n"
      ]
    },
    {
      "cell_type": "code",
      "source": [
        "# Buat lah output dari menggunakan bahasa pemprograman python dengan :\n",
        "# 1 + 3 + 5 + 7 +9 +11 +13 + 15 +17 +19 = ….\n",
        "\n",
        "jumlah = 0 #variable untuk menyimpan nilai\n",
        "string = '' #untuk membaca tanda +\n",
        "\n",
        "bilangan = 1\n",
        "while bilangan <= 19: #untuk melakukan perulangan sebanyak 19x\n",
        "  jumlah += bilangan\n",
        "  string += str(bilangan)\n",
        "  if bilangan < 19:\n",
        "    string += '+'\n",
        "  bilangan += 2\n",
        "print(string, '=' ,jumlah )\n",
        "\n"
      ],
      "metadata": {
        "colab": {
          "base_uri": "https://localhost:8080/"
        },
        "id": "N7c_CXna4ZpY",
        "outputId": "0247d84f-9768-40a6-e153-a4f5af1d2184"
      },
      "execution_count": 17,
      "outputs": [
        {
          "output_type": "stream",
          "name": "stdout",
          "text": [
            "1+3+5+7+9+11+13+15+17+19 = 100\n"
          ]
        }
      ]
    },
    {
      "cell_type": "code",
      "source": [
        "# Buat program untuk minta input jumlah baris dan buat\n",
        "# rangkaian berikut ini\n",
        "# *\n",
        "# **\n",
        "# ***\n",
        "# ****\n",
        "\n",
        "baris = int(input('masukan angka: '))\n",
        "for i in range(1, baris + 1):\n",
        "  print('jawa ' * i)\n",
        "\n",
        "\n"
      ],
      "metadata": {
        "colab": {
          "base_uri": "https://localhost:8080/"
        },
        "id": "5mpSr06LFs1H",
        "outputId": "22098798-9035-4768-a6c4-a8cce359f74f"
      },
      "execution_count": 29,
      "outputs": [
        {
          "output_type": "stream",
          "name": "stdout",
          "text": [
            "masukan angka: 5\n",
            "jawa \n",
            "jawa jawa \n",
            "jawa jawa jawa \n",
            "jawa jawa jawa jawa \n",
            "jawa jawa jawa jawa jawa \n"
          ]
        }
      ]
    }
  ]
}